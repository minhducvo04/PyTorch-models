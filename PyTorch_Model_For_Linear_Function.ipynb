{
  "nbformat": 4,
  "nbformat_minor": 0,
  "metadata": {
    "colab": {
      "provenance": [],
      "authorship_tag": "ABX9TyPBXMs1875KoO1gCxd+pep4",
      "include_colab_link": true
    },
    "kernelspec": {
      "name": "python3",
      "display_name": "Python 3"
    },
    "language_info": {
      "name": "python"
    },
    "accelerator": "GPU",
    "gpuClass": "standard"
  },
  "cells": [
    {
      "cell_type": "markdown",
      "metadata": {
        "id": "view-in-github",
        "colab_type": "text"
      },
      "source": [
        "<a href=\"https://colab.research.google.com/github/minhducvo04/PyTorch-models/blob/main/PyTorch_Model_For_Linear_Function.ipynb\" target=\"_parent\"><img src=\"https://colab.research.google.com/assets/colab-badge.svg\" alt=\"Open In Colab\"/></a>"
      ]
    },
    {
      "cell_type": "markdown",
      "source": [
        "# PyTorch Workflow"
      ],
      "metadata": {
        "id": "bddQSF7FZrYK"
      }
    },
    {
      "cell_type": "code",
      "execution_count": null,
      "metadata": {
        "colab": {
          "base_uri": "https://localhost:8080/"
        },
        "id": "BrWhXIrHY4P2",
        "outputId": "1c072363-ab88-4ca4-c737-85ed5ac79011"
      },
      "outputs": [
        {
          "output_type": "execute_result",
          "data": {
            "text/plain": [
              "('cuda', '1.13.0+cu116')"
            ]
          },
          "metadata": {},
          "execution_count": 1
        }
      ],
      "source": [
        "import numpy as np\n",
        "import torch\n",
        "from torch import nn #nn contains everything we need for neural network\n",
        "import pandas as pd\n",
        "import matplotlib.pyplot as plt\n",
        "device = \"cuda\" if torch.cuda.is_available() else \"cpu\"\n",
        "device, torch.__version__"
      ]
    },
    {
      "cell_type": "markdown",
      "source": [
        "#Data (preparing and loading)\n",
        "\n",
        "Data can be almost anything... in machine learning\n",
        "* Excel spreadsheet\n",
        "* Image of any kind\n",
        "* Videos (YouTube has lots of data...)\n",
        "* Audio like songs or podcasts\n",
        "* DNA\n",
        "* Text\n",
        "\n",
        "Machine learning is a game of 2 parts:\n",
        "1. Get data into a numberical representation\n",
        "2. Build a model to learn patterns in that numerical representation\n",
        "\n",
        "To showcase thism let's create some *known* data using the linear regression formula.\n",
        "We'll use a linear regression formula to make a straight line with *known* **parameter** -> a patter for ML to learn\n",
        "\n",
        "(if y = a + bx -> b: weight, a: bias, y: dependant var, x: independant var)"
      ],
      "metadata": {
        "id": "NDdrbKZgaU2b"
      }
    },
    {
      "cell_type": "code",
      "source": [
        "#Create *known* parameters\n",
        "weight = 0.7\n",
        "bias = 0.3\n",
        "\n",
        "#Create\n",
        "start = 0\n",
        "end = 1\n",
        "step = 0.02\n",
        "X = torch.arange(start,end,step).unsqueeze(dim = 1)\n",
        "y = weight * X + bias\n",
        "X[:20], y[:20], len(X), len(y)"
      ],
      "metadata": {
        "colab": {
          "base_uri": "https://localhost:8080/"
        },
        "id": "MluVAOuKcFHn",
        "outputId": "9e5d9e9c-93b7-4747-8c39-4b3f6bbd11e9"
      },
      "execution_count": null,
      "outputs": [
        {
          "output_type": "execute_result",
          "data": {
            "text/plain": [
              "(tensor([[0.0000],\n",
              "         [0.0200],\n",
              "         [0.0400],\n",
              "         [0.0600],\n",
              "         [0.0800],\n",
              "         [0.1000],\n",
              "         [0.1200],\n",
              "         [0.1400],\n",
              "         [0.1600],\n",
              "         [0.1800],\n",
              "         [0.2000],\n",
              "         [0.2200],\n",
              "         [0.2400],\n",
              "         [0.2600],\n",
              "         [0.2800],\n",
              "         [0.3000],\n",
              "         [0.3200],\n",
              "         [0.3400],\n",
              "         [0.3600],\n",
              "         [0.3800]]), tensor([[0.3000],\n",
              "         [0.3140],\n",
              "         [0.3280],\n",
              "         [0.3420],\n",
              "         [0.3560],\n",
              "         [0.3700],\n",
              "         [0.3840],\n",
              "         [0.3980],\n",
              "         [0.4120],\n",
              "         [0.4260],\n",
              "         [0.4400],\n",
              "         [0.4540],\n",
              "         [0.4680],\n",
              "         [0.4820],\n",
              "         [0.4960],\n",
              "         [0.5100],\n",
              "         [0.5240],\n",
              "         [0.5380],\n",
              "         [0.5520],\n",
              "         [0.5660]]), 50, 50)"
            ]
          },
          "metadata": {},
          "execution_count": 2
        }
      ]
    },
    {
      "cell_type": "markdown",
      "source": [
        "#Splitting data into learning and test sets (one of the most important concepts in machine learning in general)\n",
        "\n",
        "Let's create training and test set with our data"
      ],
      "metadata": {
        "id": "EvusCR29c_p6"
      }
    },
    {
      "cell_type": "code",
      "source": [
        "train_split = int(0.8 * len(X))\n",
        "X_train, y_train = X[:train_split], y[:train_split]\n",
        "X_test, y_test = X[train_split:], y[train_split:]\n",
        "len(X_train), len(y_train), len(X_test), len(y_test)"
      ],
      "metadata": {
        "colab": {
          "base_uri": "https://localhost:8080/"
        },
        "id": "UwpV52ocZWLG",
        "outputId": "c85da8d7-57e7-48d9-c967-aa74fde6cc85"
      },
      "execution_count": null,
      "outputs": [
        {
          "output_type": "execute_result",
          "data": {
            "text/plain": [
              "(40, 40, 10, 10)"
            ]
          },
          "metadata": {},
          "execution_count": 3
        }
      ]
    },
    {
      "cell_type": "markdown",
      "source": [
        "How might we better visualize our data?\n",
        "This is where the data explorer's motto comes in!\n",
        "\"Visualize, visualize, visualize!\""
      ],
      "metadata": {
        "id": "gM00uRrveQQO"
      }
    },
    {
      "cell_type": "code",
      "source": [
        "def plot_predictions(train_data = X_train,\n",
        "                     train_labels = y_train,\n",
        "                     test_data = X_test,\n",
        "                     test_labels = y_test,\n",
        "                     predictions = None):\n",
        "  \"\"\"\n",
        "  Plots training data, test data and compares predictions.\n",
        "  \"\"\"\n",
        "  plt.figure(figsize = (7,7))\n",
        "  #Plt training data in blue\n",
        "  plt.scatter(train_data,train_labels, c=\"b\",s=4, label = \"Training data\")\n",
        "  #Plt test data in yellow\n",
        "  plt.scatter(test_data,test_labels, c=\"g\",s=4, label = \"Testing data\")\n",
        "  #Are there prediction?\n",
        "  if predictions is not True and predictions is not None:\n",
        "    #Plot the predictions if they exist\n",
        "    plt.scatter(test_data, predictions, c=\"r\",s=4, label = \"Predictions\")\n",
        "    #Show the legend\n",
        "    plt.legend(prop={\"size\": 14});\n",
        "plot_predictions();\n"
      ],
      "metadata": {
        "id": "MSv299XGecki",
        "colab": {
          "base_uri": "https://localhost:8080/",
          "height": 428
        },
        "outputId": "802bc392-7228-4cc3-c14c-675e97597d81"
      },
      "execution_count": null,
      "outputs": [
        {
          "output_type": "display_data",
          "data": {
            "text/plain": [
              "<Figure size 504x504 with 1 Axes>"
            ],
            "image/png": "[encoded data removed]"
          },
          "metadata": {
            "needs_background": "light"
          }
        }
      ]
    },
    {
      "cell_type": "markdown",
      "source": [
        "#Build model\n",
        "Our first PyTorch model!\n",
        "\n",
        "What our model does:\n",
        "* Start with random values (weight & bias)\n",
        "* Look at training data and adjust the random values to better represent (or get closer to) thhe ideal values (the weight & bias values we used to create the data)\n",
        "\n",
        "Through 2 main algorithms:\n",
        "* Gradient descend\n",
        "* Backpropagation"
      ],
      "metadata": {
        "id": "4a7vnILhjl5w"
      }
    },
    {
      "cell_type": "code",
      "source": [
        "#Create linear regression model class\n",
        "class LinearRegressionModel(nn.Module): #Almost everything in PyTorch inherits from nn.Module\n",
        "  def __init__(self):\n",
        "    super().__init__()\n",
        "    self.weights = nn.Parameter(torch.rand(1,\n",
        "                                          requires_grad=True,\n",
        "                                          dtype=torch.float))\n",
        "    self.bias = nn.Parameter(torch.rand(1,\n",
        "                                        requires_grad=True,\n",
        "                                        dtype=torch.float))\n",
        "  #Forward method to defind the computation in the model\n",
        "  def forward(self, x: torch.Tensor) -> torch.Tensor: # <- \"x\" is the input data\n",
        "    return self.weights * x + self.bias #this is the linear regression formula"
      ],
      "metadata": {
        "id": "ge8Q2q9J08uP"
      },
      "execution_count": null,
      "outputs": []
    },
    {
      "cell_type": "markdown",
      "source": [
        "#PyTorch model building essentials\n",
        "\n",
        "* torch.nn - contains all of the buildings for computational graphs (a neural network can be considered a computational graph)\n",
        "* torch.nn.Parameter - what parameters should our model try and learn, often a PyTorch layer from torch.nn will set these for us\n",
        "* torch.nn.Module - The base class for all neural network modules, if you subclass it, you should overwrite forward()\n",
        "* torch.optim() - this is where optimizers in PyTorch live, they will help witg gradient descent\n",
        "* def forward() - All nn.Module subclasses require you to overwrite forward(), this method defines what happens in the forward computation"
      ],
      "metadata": {
        "id": "woEmQDAJIkiv"
      }
    },
    {
      "cell_type": "markdown",
      "source": [
        "#Checking the contents of our PyTorch model\n",
        "\n",
        "Now we've created the model, let see what's inside...\n",
        "\n",
        "So we can check our model parameters or what's inside our model using .parameters()"
      ],
      "metadata": {
        "id": "h5xI89mzxjFw"
      }
    },
    {
      "cell_type": "code",
      "source": [
        "#Create a random seed\n",
        "torch.manual_seed(42)\n",
        "\n",
        "#Create an instance of the model (this is a subclass of nn.Module)\n",
        "model_0 = LinearRegressionModel()\n",
        "\n",
        "#Check out the parameters\n",
        "list(model_0.parameters())"
      ],
      "metadata": {
        "colab": {
          "base_uri": "https://localhost:8080/"
        },
        "id": "hJA4pTmix3_M",
        "outputId": "f64609ce-35fa-493d-ac78-3ddc210cd8a2"
      },
      "execution_count": null,
      "outputs": [
        {
          "output_type": "execute_result",
          "data": {
            "text/plain": [
              "[Parameter containing:\n",
              " tensor([0.8823], requires_grad=True), Parameter containing:\n",
              " tensor([0.9150], requires_grad=True)]"
            ]
          },
          "metadata": {},
          "execution_count": 6
        }
      ]
    },
    {
      "cell_type": "code",
      "source": [
        "#List named parameters\n",
        "model_0.state_dict(), weight, bias"
      ],
      "metadata": {
        "colab": {
          "base_uri": "https://localhost:8080/"
        },
        "id": "NP37a9x4ynUW",
        "outputId": "6f0c5786-620a-4dc2-fcb7-8db007f50e12"
      },
      "execution_count": null,
      "outputs": [
        {
          "output_type": "execute_result",
          "data": {
            "text/plain": [
              "(OrderedDict([('weights', tensor([0.8823])), ('bias', tensor([0.9150]))]),\n",
              " 0.7,\n",
              " 0.3)"
            ]
          },
          "metadata": {},
          "execution_count": 7
        }
      ]
    },
    {
      "cell_type": "markdown",
      "source": [
        "#Making prediction using `torch.inference_mode()`\n",
        "\n",
        "To check our model's predictive power, let's see how well it predicts `y_test` based on `X_test`.\n",
        "When we pass data through our model, it's going to run it through the `forward()` method."
      ],
      "metadata": {
        "id": "K4e9ZEawzut1"
      }
    },
    {
      "cell_type": "code",
      "source": [
        "#Make predictions with model (use inference mode so that we can get rid of background data stored on the tensor\n",
        "#We can use torch.no_grad() but not as prefered)\n",
        "##CHOOSE\n",
        "with torch.inference_mode():\n",
        "  y_preds = model_0(X_test)\n",
        "y_preds"
      ],
      "metadata": {
        "colab": {
          "base_uri": "https://localhost:8080/"
        },
        "id": "9XIFjo3Hzsmr",
        "outputId": "b6512ba2-c79f-4392-9e37-5625e87d1b1a"
      },
      "execution_count": null,
      "outputs": [
        {
          "output_type": "execute_result",
          "data": {
            "text/plain": [
              "tensor([[1.6208],\n",
              "        [1.6385],\n",
              "        [1.6561],\n",
              "        [1.6738],\n",
              "        [1.6914],\n",
              "        [1.7090],\n",
              "        [1.7267],\n",
              "        [1.7443],\n",
              "        [1.7620],\n",
              "        [1.7796]])"
            ]
          },
          "metadata": {},
          "execution_count": 8
        }
      ]
    },
    {
      "cell_type": "code",
      "source": [
        "y_test"
      ],
      "metadata": {
        "colab": {
          "base_uri": "https://localhost:8080/"
        },
        "id": "MukHPTz41fJU",
        "outputId": "d72c90b5-7bdd-4912-99f5-107359b76001"
      },
      "execution_count": null,
      "outputs": [
        {
          "output_type": "execute_result",
          "data": {
            "text/plain": [
              "tensor([[0.8600],\n",
              "        [0.8740],\n",
              "        [0.8880],\n",
              "        [0.9020],\n",
              "        [0.9160],\n",
              "        [0.9300],\n",
              "        [0.9440],\n",
              "        [0.9580],\n",
              "        [0.9720],\n",
              "        [0.9860]])"
            ]
          },
          "metadata": {},
          "execution_count": 9
        }
      ]
    },
    {
      "cell_type": "code",
      "source": [
        "plot_predictions(predictions=y_preds)"
      ],
      "metadata": {
        "colab": {
          "base_uri": "https://localhost:8080/",
          "height": 428
        },
        "id": "dzgMwLwE1k2c",
        "outputId": "0f442ef2-e9c8-4c2f-d1f6-8393d2fc6e0f"
      },
      "execution_count": null,
      "outputs": [
        {
          "output_type": "display_data",
          "data": {
            "text/plain": [
              "<Figure size 504x504 with 1 Axes>"
            ],
            "image/png": "[encoded data removed]"
          },
          "metadata": {
            "needs_background": "light"
          }
        }
      ]
    },
    {
      "cell_type": "markdown",
      "source": [
        "#3. Train model\n",
        "The whole idea of training is for a model to move from some *unknown* parameters (these may be random) to some parameters.\n",
        "Or in other words from a poor representaion of the data to a better representation of the data\n",
        "One way to measure how poor or how wrong your models predictions are is using lost functions\n",
        "\n",
        "Things we need to train\n",
        "\n",
        "**Loss function:** A function to measure how wrong your model's predictions are to the ideal outputs, lower is better.\n",
        "\n",
        "'##CHOOSE'\n",
        "Choose an appropriate loss function for the models from https://pytorch.org/docs/stable/nn.html#loss-functions (L1 is the mean absolute error, L2 is the mean squared error)\n",
        "\n",
        "**Optimizer:** Takes to account the loss of a model and adjusts the model's parameters (e.g. weight & bias) to improve the loss funtion. \n",
        "\n",
        "'##CHOOSE'\n",
        "Choose an appropriate optimizer for the models from https://pytorch.org/docs/stable/optim.html (SGD is the popular gradient descent, Rprop is the resilient backpropagation, nn.BCELoss() >Binary cross entropy loss< is usually for classification problem like classifying whether a photo is a dog or a cot)\n",
        "\n",
        "And specifically for PyTorch, we need:\n",
        "* A training loop\n",
        "* A testing loop"
      ],
      "metadata": {
        "id": "Oq5VJ5RW3KCM"
      }
    },
    {
      "cell_type": "code",
      "source": [
        "list(model_0.parameters())"
      ],
      "metadata": {
        "colab": {
          "base_uri": "https://localhost:8080/"
        },
        "id": "1BeAJq2430jP",
        "outputId": "31635e4e-4b76-4b7d-9f03-96af48ea225b"
      },
      "execution_count": null,
      "outputs": [
        {
          "output_type": "execute_result",
          "data": {
            "text/plain": [
              "[Parameter containing:\n",
              " tensor([0.8823], requires_grad=True), Parameter containing:\n",
              " tensor([0.9150], requires_grad=True)]"
            ]
          },
          "metadata": {},
          "execution_count": 11
        }
      ]
    },
    {
      "cell_type": "code",
      "source": [
        "# Check out our model's parameters (a paremeter is a value that the model sets itself)\n",
        "model_0.state_dict()"
      ],
      "metadata": {
        "colab": {
          "base_uri": "https://localhost:8080/"
        },
        "id": "HkrtoyF84QKg",
        "outputId": "5621ba4f-ad1a-4652-c8df-15c2677e91ab"
      },
      "execution_count": null,
      "outputs": [
        {
          "output_type": "execute_result",
          "data": {
            "text/plain": [
              "OrderedDict([('weights', tensor([0.8823])), ('bias', tensor([0.9150]))])"
            ]
          },
          "metadata": {},
          "execution_count": 12
        }
      ]
    },
    {
      "cell_type": "code",
      "source": [
        "# Setup a loss function\n",
        "loss_fn = nn.L1Loss()\n",
        "\n",
        "# Setup an optimizer\n",
        "optimizer = torch.optim.SGD(params = model_0.parameters(),\n",
        "                            lr=0.0001) #learning rate = possibly the most important hyperparameters you can set\n"
      ],
      "metadata": {
        "id": "u47hC_f15n6D"
      },
      "execution_count": null,
      "outputs": []
    },
    {
      "cell_type": "markdown",
      "source": [
        "#Building a training loop (and a testing loop) in PyTorch\n",
        "\n",
        "A couple of fthings we need in a training lopp:\n",
        "0. Loop through the data\n",
        "1. Forward pass (this envolves data moving through our model's `framework()` function to make predictions on data - also called forward propagation\n",
        "2. Calculate the loss (compare forward pass predictions to ground truth labels)\n",
        "3. optimizer zero grad\n",
        "4. Loss backward - move backwards throught the network to calculate the gradients of each of the parameters of our model with respect to the loss (**backpropagation**)\n",
        "5. Optimizer step - use the optimizer to adjust our model's parameters to try and improve the loss (**gradient descent**)"
      ],
      "metadata": {
        "id": "wW8lCGLiSzuZ"
      }
    },
    {
      "cell_type": "code",
      "source": [
        "# An epoch is one loop through the data...\n",
        "epochs = 10000\n",
        "\n",
        "# Track different value\n",
        "epoch_count = []\n",
        "loss_values = []\n",
        "test_loss_values = []\n",
        "\n",
        "# 0. Loop though the data\n",
        "for epoch in range(epochs):\n",
        "  #Set the model to training mode\n",
        "  model_0.train() #train mode in PyTorch set all parameters that require gradients to require gradients\n",
        "\n",
        "  # 1. Forward pass\n",
        "  y_pred = model_0(X_train)\n",
        "\n",
        "  # 2. Calculate the loss\n",
        "  loss = loss_fn(y_pred, y_train)\n",
        "\n",
        "  # 3. Optimizer zero grad\n",
        "  optimizer.zero_grad()\n",
        "\n",
        "  # 4. Perform backpropagation on the loss with respect to the parameters of the model\n",
        "  loss.backward()\n",
        "\n",
        "  # 5. Step the optimizer (perform gradient descent)\n",
        "  optimizer.step() # by default how the optimizer changes will acculumate through the loop\n",
        "                   #so we have to zero them above in step 3 for the next iteration of the loop\n",
        "\n",
        "  # Testing\n",
        "  model_0.eval() #turn off gradient setting in the model not needed for evaluation/ testing (dropout/batch norm layers)\n",
        "  with torch.inference_mode(): #turns off gradient tracking & a couple more things behind the scenes\n",
        "    # 1. Do the forward pass\n",
        "    y_pred = model_0(X_test)\n",
        "\n",
        "    # 2. Calculate the loss\n",
        "    test_loss = loss_fn(y_pred, y_test)\n",
        "  if(epoch % 10 == 0):\n",
        "    if epoch % 100 == 0:\n",
        "      print(f\"Epoch: {epoch} | Test: {loss} | Test loss: {test_loss}\")\n",
        "    epoch_count.append(epoch)\n",
        "    loss_values.append(loss)\n",
        "    test_loss_values.append(test_loss)\n",
        "  #if(epoch % 200 == 0):\n",
        "    #with torch.inference_mode():\n",
        "    #y_preds_new = model_0(X_test)\n",
        "      #plot_predictions(predictions = model_0(X_test))\n",
        "  #print(model_0.state_dict(), weight, bias, loss)\n"
      ],
      "metadata": {
        "colab": {
          "base_uri": "https://localhost:8080/"
        },
        "id": "bJkTZ4vjSDjS",
        "outputId": "e60eb059-ad0a-4618-a4c0-c92d8d0b741e"
      },
      "execution_count": null,
      "outputs": [
        {
          "output_type": "stream",
          "name": "stdout",
          "text": [
            "Epoch: 0 | Test: 0.6860889196395874 | Test loss: 0.7770889401435852\n",
            "Epoch: 100 | Test: 0.6745670437812805 | Test loss: 0.7636178731918335\n",
            "Epoch: 200 | Test: 0.6630450487136841 | Test loss: 0.7501469254493713\n",
            "Epoch: 300 | Test: 0.651523232460022 | Test loss: 0.7366758584976196\n",
            "Epoch: 400 | Test: 0.6400011777877808 | Test loss: 0.7232049107551575\n",
            "Epoch: 500 | Test: 0.6284793615341187 | Test loss: 0.7097338438034058\n",
            "Epoch: 600 | Test: 0.6169573068618774 | Test loss: 0.6962628960609436\n",
            "Epoch: 700 | Test: 0.6054353713989258 | Test loss: 0.6827918291091919\n",
            "Epoch: 800 | Test: 0.5939134955406189 | Test loss: 0.6693208813667297\n",
            "Epoch: 900 | Test: 0.5823915004730225 | Test loss: 0.655849814414978\n",
            "Epoch: 1000 | Test: 0.5708696246147156 | Test loss: 0.6423788666725159\n",
            "Epoch: 1100 | Test: 0.5593476295471191 | Test loss: 0.6289077997207642\n",
            "Epoch: 1200 | Test: 0.5478257536888123 | Test loss: 0.615436851978302\n",
            "Epoch: 1300 | Test: 0.5363038182258606 | Test loss: 0.6019657850265503\n",
            "Epoch: 1400 | Test: 0.5247818231582642 | Test loss: 0.5884948372840881\n",
            "Epoch: 1500 | Test: 0.5132599472999573 | Test loss: 0.5750237703323364\n",
            "Epoch: 1600 | Test: 0.5017379522323608 | Test loss: 0.5615528225898743\n",
            "Epoch: 1700 | Test: 0.4902160167694092 | Test loss: 0.5480817556381226\n",
            "Epoch: 1800 | Test: 0.4786941111087799 | Test loss: 0.5346108078956604\n",
            "Epoch: 1900 | Test: 0.46717214584350586 | Test loss: 0.5211397409439087\n",
            "Epoch: 2000 | Test: 0.455650269985199 | Test loss: 0.5076687932014465\n",
            "Epoch: 2100 | Test: 0.4441283345222473 | Test loss: 0.4941977560520172\n",
            "Epoch: 2200 | Test: 0.43260636925697327 | Test loss: 0.48072677850723267\n",
            "Epoch: 2300 | Test: 0.421084463596344 | Test loss: 0.46725568175315857\n",
            "Epoch: 2400 | Test: 0.40956249833106995 | Test loss: 0.4537847638130188\n",
            "Epoch: 2500 | Test: 0.3980405926704407 | Test loss: 0.4403136670589447\n",
            "Epoch: 2600 | Test: 0.386518657207489 | Test loss: 0.42684268951416016\n",
            "Epoch: 2700 | Test: 0.37499672174453735 | Test loss: 0.41337165236473083\n",
            "Epoch: 2800 | Test: 0.3634747862815857 | Test loss: 0.3999007046222687\n",
            "Epoch: 2900 | Test: 0.35195285081863403 | Test loss: 0.38642966747283936\n",
            "Epoch: 3000 | Test: 0.3404309153556824 | Test loss: 0.3729586899280548\n",
            "Epoch: 3100 | Test: 0.3289089798927307 | Test loss: 0.3594876527786255\n",
            "Epoch: 3200 | Test: 0.31738704442977905 | Test loss: 0.34601667523384094\n",
            "Epoch: 3300 | Test: 0.3058651089668274 | Test loss: 0.3325456380844116\n",
            "Epoch: 3400 | Test: 0.29434317350387573 | Test loss: 0.3190746605396271\n",
            "Epoch: 3500 | Test: 0.2828212380409241 | Test loss: 0.30560368299484253\n",
            "Epoch: 3600 | Test: 0.2712993025779724 | Test loss: 0.2921326458454132\n",
            "Epoch: 3700 | Test: 0.25977736711502075 | Test loss: 0.27866166830062866\n",
            "Epoch: 3800 | Test: 0.2482554167509079 | Test loss: 0.26519066095352173\n",
            "Epoch: 3900 | Test: 0.23673348128795624 | Test loss: 0.2517196536064148\n",
            "Epoch: 4000 | Test: 0.22521154582500458 | Test loss: 0.23824863135814667\n",
            "Epoch: 4100 | Test: 0.21368961036205292 | Test loss: 0.22477762401103973\n",
            "Epoch: 4200 | Test: 0.20216920971870422 | Test loss: 0.21130815148353577\n",
            "Epoch: 4300 | Test: 0.19065025448799133 | Test loss: 0.1978401392698288\n",
            "Epoch: 4400 | Test: 0.17913128435611725 | Test loss: 0.18437209725379944\n",
            "Epoch: 4500 | Test: 0.16761234402656555 | Test loss: 0.17090408504009247\n",
            "Epoch: 4600 | Test: 0.15609338879585266 | Test loss: 0.15743601322174072\n",
            "Epoch: 4700 | Test: 0.14457443356513977 | Test loss: 0.14396801590919495\n",
            "Epoch: 4800 | Test: 0.13305547833442688 | Test loss: 0.13049998879432678\n",
            "Epoch: 4900 | Test: 0.12153651565313339 | Test loss: 0.11703195422887802\n",
            "Epoch: 5000 | Test: 0.1100175604224205 | Test loss: 0.10356392711400986\n",
            "Epoch: 5100 | Test: 0.09849860519170761 | Test loss: 0.0900958925485611\n",
            "Epoch: 5200 | Test: 0.08697964996099472 | Test loss: 0.07662787288427353\n",
            "Epoch: 5300 | Test: 0.07546069473028183 | Test loss: 0.06315984576940536\n",
            "Epoch: 5400 | Test: 0.06394173949956894 | Test loss: 0.049691807478666306\n",
            "Epoch: 5500 | Test: 0.05242278426885605 | Test loss: 0.03622378781437874\n",
            "Epoch: 5600 | Test: 0.04090382903814316 | Test loss: 0.022755760699510574\n",
            "Epoch: 5700 | Test: 0.029384871944785118 | Test loss: 0.009287732653319836\n",
            "Epoch: 5800 | Test: 0.017865916714072227 | Test loss: 0.004180294461548328\n",
            "Epoch: 5900 | Test: 0.011724120005965233 | Test loss: 0.01328989863395691\n",
            "Epoch: 6000 | Test: 0.010026594623923302 | Test loss: 0.01724310591816902\n",
            "Epoch: 6100 | Test: 0.00932155828922987 | Test loss: 0.018873637542128563\n",
            "Epoch: 6200 | Test: 0.008875405415892601 | Test loss: 0.019350677728652954\n",
            "Epoch: 6300 | Test: 0.008505858480930328 | Test loss: 0.019123047590255737\n",
            "Epoch: 6400 | Test: 0.008152683265507221 | Test loss: 0.018708020448684692\n",
            "Epoch: 6500 | Test: 0.0078009143471717834 | Test loss: 0.018231218680739403\n",
            "Epoch: 6600 | Test: 0.007457331754267216 | Test loss: 0.01742849312722683\n",
            "Epoch: 6700 | Test: 0.007113718893378973 | Test loss: 0.01662921905517578\n",
            "Epoch: 6800 | Test: 0.0067701032385230064 | Test loss: 0.01582307741045952\n",
            "Epoch: 6900 | Test: 0.00642657745629549 | Test loss: 0.015020335093140602\n",
            "Epoch: 7000 | Test: 0.00608294690027833 | Test loss: 0.01421420555561781\n",
            "Epoch: 7100 | Test: 0.005739367567002773 | Test loss: 0.013414924964308739\n",
            "Epoch: 7200 | Test: 0.005395793356001377 | Test loss: 0.012608790770173073\n",
            "Epoch: 7300 | Test: 0.005052147898823023 | Test loss: 0.011802643537521362\n",
            "Epoch: 7400 | Test: 0.004708616994321346 | Test loss: 0.01100338064134121\n",
            "Epoch: 7500 | Test: 0.004365005996078253 | Test loss: 0.010200637392699718\n",
            "Epoch: 7600 | Test: 0.004021411295980215 | Test loss: 0.009394491091370583\n",
            "Epoch: 7700 | Test: 0.0036778226494789124 | Test loss: 0.008591771125793457\n",
            "Epoch: 7800 | Test: 0.003334183944389224 | Test loss: 0.007785618305206299\n",
            "Epoch: 7900 | Test: 0.0029906495474278927 | Test loss: 0.006986355874687433\n",
            "Epoch: 8000 | Test: 0.0026470168959349394 | Test loss: 0.006180203054100275\n",
            "Epoch: 8100 | Test: 0.0023034259211272 | Test loss: 0.0053809345699846745\n",
            "Epoch: 8200 | Test: 0.0019598701037466526 | Test loss: 0.004574793390929699\n",
            "Epoch: 8300 | Test: 0.001616226159967482 | Test loss: 0.0037686587311327457\n",
            "Epoch: 8400 | Test: 0.0012726433342322707 | Test loss: 0.002965915249660611\n",
            "Epoch: 8500 | Test: 0.0009290709858760238 | Test loss: 0.0021666467655450106\n",
            "Epoch: 8600 | Test: 0.0005854599294252694 | Test loss: 0.0013639092212542892\n",
            "Epoch: 8700 | Test: 0.0002419047086732462 | Test loss: 0.0005577802658081055\n",
            "Epoch: 8800 | Test: 2.5378167265444063e-05 | Test loss: 8.33928570500575e-05\n",
            "Epoch: 8900 | Test: 2.5378167265444063e-05 | Test loss: 8.33928570500575e-05\n",
            "Epoch: 9000 | Test: 2.5378167265444063e-05 | Test loss: 8.33928570500575e-05\n",
            "Epoch: 9100 | Test: 2.5378167265444063e-05 | Test loss: 8.33928570500575e-05\n",
            "Epoch: 9200 | Test: 2.5378167265444063e-05 | Test loss: 8.33928570500575e-05\n",
            "Epoch: 9300 | Test: 2.5378167265444063e-05 | Test loss: 8.33928570500575e-05\n",
            "Epoch: 9400 | Test: 2.5378167265444063e-05 | Test loss: 8.33928570500575e-05\n",
            "Epoch: 9500 | Test: 2.5378167265444063e-05 | Test loss: 8.33928570500575e-05\n",
            "Epoch: 9600 | Test: 2.5378167265444063e-05 | Test loss: 8.33928570500575e-05\n",
            "Epoch: 9700 | Test: 2.5378167265444063e-05 | Test loss: 8.33928570500575e-05\n",
            "Epoch: 9800 | Test: 2.5378167265444063e-05 | Test loss: 8.33928570500575e-05\n",
            "Epoch: 9900 | Test: 2.5378167265444063e-05 | Test loss: 8.33928570500575e-05\n"
          ]
        }
      ]
    },
    {
      "cell_type": "code",
      "source": [
        "# Graping and stuff\n",
        "print(model_0.state_dict(), weight, bias, loss)\n",
        "with torch.inference_mode():\n",
        "  y_preds_new = model_0(X_test)\n",
        "plot_predictions(predictions=y_preds_new)"
      ],
      "metadata": {
        "colab": {
          "base_uri": "https://localhost:8080/",
          "height": 445
        },
        "id": "vHvObYigdEgd",
        "outputId": "2d52ec0a-3419-4637-fde6-b7819c129230"
      },
      "execution_count": null,
      "outputs": [
        {
          "output_type": "stream",
          "name": "stdout",
          "text": [
            "OrderedDict([('weights', tensor([0.6999])), ('bias', tensor([0.3000]))]) 0.7 0.3 tensor(8.9806e-05, grad_fn=<MeanBackward0>)\n"
          ]
        },
        {
          "output_type": "display_data",
          "data": {
            "text/plain": [
              "<Figure size 504x504 with 1 Axes>"
            ],
            "image/png": "[encoded data removed]"
          },
          "metadata": {
            "needs_background": "light"
          }
        }
      ]
    },
    {
      "cell_type": "code",
      "source": [
        "#Plot the loss curves\n",
        "plt.plot(epoch_count, torch.tensor(loss_values).cpu().numpy(), label=\"Train loss\")\n",
        "plt.plot(epoch_count, test_loss_values, label=\"Test loss\")\n",
        "plt.title(\"Training and test loss curves\")\n",
        "plt.ylabel(\"Loss\")\n",
        "plt.xlabel(\"Epochs\")\n",
        "plt.legend();"
      ],
      "metadata": {
        "colab": {
          "base_uri": "https://localhost:8080/",
          "height": 295
        },
        "id": "QNorJ1buGul6",
        "outputId": "a5aac761-1d63-4865-8a3e-bf1bd2b07fed"
      },
      "execution_count": null,
      "outputs": [
        {
          "output_type": "display_data",
          "data": {
            "text/plain": [
              "<Figure size 432x288 with 1 Axes>"
            ],
            "image/png": "[encoded data removed]"
          },
          "metadata": {
            "needs_background": "light"
          }
        }
      ]
    },
    {
      "cell_type": "code",
      "source": [
        "model_0.state_dict()"
      ],
      "metadata": {
        "colab": {
          "base_uri": "https://localhost:8080/"
        },
        "id": "qNG7kPEHL5oy",
        "outputId": "e27f363a-c206-4499-8504-992dcb50a3af"
      },
      "execution_count": null,
      "outputs": [
        {
          "output_type": "execute_result",
          "data": {
            "text/plain": [
              "OrderedDict([('weights', tensor([0.6999])), ('bias', tensor([0.3000]))])"
            ]
          },
          "metadata": {},
          "execution_count": 17
        }
      ]
    },
    {
      "cell_type": "markdown",
      "source": [
        "# Saving a model in PyTorch\n",
        "\n",
        "There are three main methods you should about for saving and loading models in PyTorch.\n",
        "1. `torch.save()` allows you save a PyTorch object in Python's pickle format\n",
        "2. `torch.load()` allows you load a saved PyTorch object\n",
        "3. `torch.nn.Module.load_state_dict()` allows you to load a model's saved state dictionary"
      ],
      "metadata": {
        "id": "7uKkvepwJkEM"
      }
    },
    {
      "cell_type": "code",
      "source": [
        "# Saving our model\n",
        "from pathlib import Path\n",
        "\n",
        "#1. Create models directory\n",
        "MODEL_PATH = Path(\"models\")\n",
        "MODEL_PATH.mkdir(parents=True, exist_ok=True)\n",
        "\n",
        "#2. Create model save path\n",
        "MODEL_NAME = \"00_pytorch_MDuc_first_model.pth\"\n",
        "MODEL_SAVE_PATH = MODEL_PATH / MODEL_NAME\n",
        "\n",
        "#3. Save the model\n",
        "\n",
        "torch.save(obj=model_0.state_dict(),\n",
        "           f=MODEL_SAVE_PATH)"
      ],
      "metadata": {
        "id": "UnqH2aWYKtfG"
      },
      "execution_count": null,
      "outputs": []
    },
    {
      "cell_type": "markdown",
      "source": [
        "# Loading a PyTorch model\n",
        "Since we saved our model's `state_dict()` rather the entire model, we'll create a new instance of our model class and load the saved `state_dict()` into that\n"
      ],
      "metadata": {
        "id": "eSv-hParMZsm"
      }
    },
    {
      "cell_type": "code",
      "source": [
        "# To load in a saved state_dict we have to instantiate a new instance of our model class\n",
        "loaded_model_0 = LinearRegressionModel()\n",
        "\n",
        "# Load the saved state_dict of model_0 (this will update the new instance with updated parameters)\n",
        "loaded_model_0.load_state_dict(torch.load(f=MODEL_SAVE_PATH))\n",
        "loaded_model_0.state_dict()"
      ],
      "metadata": {
        "colab": {
          "base_uri": "https://localhost:8080/"
        },
        "id": "5tUMnH1xMU9v",
        "outputId": "bb5db240-27ed-46ad-f577-e6d3869115ee"
      },
      "execution_count": null,
      "outputs": [
        {
          "output_type": "execute_result",
          "data": {
            "text/plain": [
              "OrderedDict([('weights', tensor([0.6999])), ('bias', tensor([0.3000]))])"
            ]
          },
          "metadata": {},
          "execution_count": 19
        }
      ]
    },
    {
      "cell_type": "code",
      "source": [
        "# Make some predictions with our loaded model\n",
        "loaded_model_0.eval()\n",
        "with torch.inference_mode():\n",
        "  loaded_model_preds = loaded_model_0(X_test)\n",
        "loaded_model_preds == y_pred"
      ],
      "metadata": {
        "colab": {
          "base_uri": "https://localhost:8080/"
        },
        "id": "Jk48KCMMNeVi",
        "outputId": "25ecb517-3c62-4b9d-f131-ef72a4aaa0b3"
      },
      "execution_count": null,
      "outputs": [
        {
          "output_type": "execute_result",
          "data": {
            "text/plain": [
              "tensor([[True],\n",
              "        [True],\n",
              "        [True],\n",
              "        [True],\n",
              "        [True],\n",
              "        [True],\n",
              "        [True],\n",
              "        [True],\n",
              "        [True],\n",
              "        [True]])"
            ]
          },
          "metadata": {},
          "execution_count": 20
        }
      ]
    }
  ]
}